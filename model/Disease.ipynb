{
 "cells": [
  {
   "cell_type": "code",
   "execution_count": 10,
   "id": "b335626a",
   "metadata": {},
   "outputs": [],
   "source": [
    "from sklearn.model_selection import train_test_split\n",
    "from sklearn.tree import DecisionTreeClassifier\n",
    "from sklearn.metrics import classification_report\n",
    "import numpy as np\n",
    "import random\n",
    "import pandas as pd"
   ]
  },
  {
   "cell_type": "code",
   "execution_count": 3,
   "id": "6f76ae73",
   "metadata": {},
   "outputs": [],
   "source": [
    "import pandas as pd"
   ]
  },
  {
   "cell_type": "code",
   "execution_count": 4,
   "id": "d1fc4eca",
   "metadata": {},
   "outputs": [
    {
     "name": "stdout",
     "output_type": "stream",
     "text": [
      "Index(['Disease', 'Symptom_1', 'Symptom_2', 'Symptom_3', 'Symptom_4',\n",
      "       'Symptom_5', 'Symptom_6', 'Symptom_7', 'Symptom_8', 'Symptom_9',\n",
      "       'Symptom_10', 'Symptom_11', 'Symptom_12', 'Symptom_13', 'Symptom_14',\n",
      "       'Symptom_15', 'Symptom_16', 'Symptom_17'],\n",
      "      dtype='object')\n"
     ]
    }
   ],
   "source": [
    "# Load datasets\n",
    "df_precautions = pd.read_csv(\"dataset.csv\")\n",
    "df_severity = pd.read_csv(\"Symptom-severity.csv\")\n",
    "print(df_precautions.columns)\n"
   ]
  },
  {
   "cell_type": "code",
   "execution_count": null,
   "id": "376ba9a5",
   "metadata": {},
   "outputs": [
    {
     "name": "stdout",
     "output_type": "stream",
     "text": [
      "                                         precision    recall  f1-score   support\n",
      "\n",
      "(vertigo) paroymsal  positional vertigo       0.00      0.00      0.00       107\n",
      "                                   acne       0.00      0.00      0.00       128\n",
      "                                   aids       0.00      0.00      0.00       127\n",
      "                    alcoholic hepatitis       0.00      0.00      0.00       116\n",
      "                                allergy       0.00      0.00      0.00       119\n",
      "                              arthritis       0.00      0.00      0.00       124\n",
      "                       bronchial asthma       0.00      0.00      0.00       118\n",
      "                   cervical spondylosis       0.00      0.00      0.00       118\n",
      "                            chicken pox       0.15      0.72      0.25       116\n",
      "                    chronic cholestasis       0.00      0.00      0.00       136\n",
      "                            common cold       0.00      0.00      0.00       145\n",
      "                                 dengue       0.00      0.00      0.00       113\n",
      "                               diabetes       0.00      0.00      0.00       111\n",
      "           dimorphic hemmorhoids(piles)       0.00      0.00      0.00       117\n",
      "                          drug reaction       0.00      0.00      0.00       125\n",
      "                       fungal infection       0.00      0.00      0.00       116\n",
      "                        gastroenteritis       0.00      0.00      0.00       122\n",
      "                                   gerd       0.00      0.00      0.00       140\n",
      "                           heart attack       0.00      0.00      0.00       124\n",
      "                            hepatitis a       0.00      0.00      0.00       133\n",
      "                            hepatitis b       0.00      0.00      0.00       111\n",
      "                            hepatitis c       0.00      0.00      0.00       126\n",
      "                            hepatitis d       0.02      1.00      0.04        95\n",
      "                            hepatitis e       0.00      0.00      0.00       118\n",
      "                           hypertension       0.00      0.00      0.00       122\n",
      "                        hyperthyroidism       0.00      0.00      0.00       116\n",
      "                           hypoglycemia       0.00      0.00      0.00       123\n",
      "                         hypothyroidism       0.00      0.00      0.00       134\n",
      "                               impetigo       0.00      0.00      0.00       104\n",
      "                               jaundice       0.00      0.00      0.00       128\n",
      "                                malaria       0.00      0.00      0.00       120\n",
      "                               migraine       0.00      0.00      0.00       103\n",
      "                        osteoarthristis       0.00      0.00      0.00       115\n",
      "           paralysis (brain hemorrhage)       0.00      0.00      0.00       119\n",
      "                    peptic ulcer diseae       0.00      0.00      0.00       123\n",
      "                              pneumonia       0.00      0.00      0.00       108\n",
      "                              psoriasis       0.00      0.00      0.00       123\n",
      "                           tuberculosis       0.00      0.00      0.00       118\n",
      "                                typhoid       0.00      0.00      0.00       117\n",
      "                urinary tract infection       0.00      0.00      0.00       112\n",
      "                         varicose veins       0.00      0.00      0.00       130\n",
      "\n",
      "                               accuracy                           0.04      4920\n",
      "                              macro avg       0.00      0.04      0.01      4920\n",
      "                           weighted avg       0.00      0.04      0.01      4920\n",
      "\n"
     ]
    },
    {
     "name": "stderr",
     "output_type": "stream",
     "text": [
      "C:\\Users\\Jayesh\\AppData\\Local\\Packages\\PythonSoftwareFoundation.Python.3.10_qbz5n2kfra8p0\\LocalCache\\local-packages\\Python310\\site-packages\\sklearn\\metrics\\_classification.py:1706: UndefinedMetricWarning: Precision is ill-defined and being set to 0.0 in labels with no predicted samples. Use `zero_division` parameter to control this behavior.\n",
      "  _warn_prf(average, modifier, f\"{metric.capitalize()} is\", result.shape[0])\n",
      "C:\\Users\\Jayesh\\AppData\\Local\\Packages\\PythonSoftwareFoundation.Python.3.10_qbz5n2kfra8p0\\LocalCache\\local-packages\\Python310\\site-packages\\sklearn\\metrics\\_classification.py:1706: UndefinedMetricWarning: Precision is ill-defined and being set to 0.0 in labels with no predicted samples. Use `zero_division` parameter to control this behavior.\n",
      "  _warn_prf(average, modifier, f\"{metric.capitalize()} is\", result.shape[0])\n",
      "C:\\Users\\Jayesh\\AppData\\Local\\Packages\\PythonSoftwareFoundation.Python.3.10_qbz5n2kfra8p0\\LocalCache\\local-packages\\Python310\\site-packages\\sklearn\\metrics\\_classification.py:1706: UndefinedMetricWarning: Precision is ill-defined and being set to 0.0 in labels with no predicted samples. Use `zero_division` parameter to control this behavior.\n",
      "  _warn_prf(average, modifier, f\"{metric.capitalize()} is\", result.shape[0])\n"
     ]
    }
   ],
   "source": [
    "\n",
    "\n",
    "\n",
    "# Extract all unique symptoms\n",
    "all_symptoms = sorted(df_severity['Symptom'].str.lower().unique())\n",
    "\n",
    "# Build severity dictionary\n",
    "severity_dict = dict(zip(df_severity['Symptom'].str.lower(), df_severity['weight']))\n",
    "\n",
    "# Prepare dataset\n",
    "data = []\n",
    "for _, row in df_precautions.iterrows():\n",
    "    disease = row['Disease'].strip()\n",
    "    symptoms = [str(row[f'Symptom_{i}']).lower().strip() for i in range(1, 6) if pd.notnull(row[f'Symptom_{i}'])]\n",
    "    symptom_vector = [severity_dict.get(symptom, 0) if symptom in symptoms else 0 for symptom in all_symptoms]\n",
    "    data.append((symptom_vector, disease))\n",
    "\n",
    "# Features and target\n",
    "X = np.array([row[0] for row in data])\n",
    "y = np.array([row[1] for row in data])\n",
    "\n",
    "# Split dataset\n",
    "X_train, X_test, y_train, y_test = train_test_split(X, y, test_size=0.2, random_state=42)\n",
    "\n",
    "# 🔁 Train Decision Tree model\n",
    "model = DecisionTreeClassifier()\n",
    "model.fit(X_train, y_train)\n",
    "\n",
    "# Evaluate\n",
    "y_pred = model.predict(X_test)\n",
    "print(classification_report(y_test, y_pred))\n"
   ]
  },
  {
   "cell_type": "code",
   "execution_count": 6,
   "id": "dacefee0",
   "metadata": {},
   "outputs": [],
   "source": [
    "def predict_disease_safe(symptoms_input):\n",
    "    user_symptoms = [sym.strip().lower().replace('_', ' ') for sym in symptoms_input]\n",
    "\n",
    "    unknown = [sym for sym in user_symptoms if sym not in severity_dict]\n",
    "    if unknown:\n",
    "        print(f\"Warning: These symptoms are not in the model and will be ignored: {unknown}\")\n",
    "\n",
    "    input_vector = [severity_dict.get(sym, 0) if sym in user_symptoms else 0 for sym in all_symptoms]\n",
    "\n",
    "    # Check if input_vector has no active symptoms\n",
    "    if sum(input_vector) == 0:\n",
    "        print(\"Cannot predict disease: no known symptoms were provided.\")\n",
    "        return\n",
    "\n",
    "    prediction = model.predict([input_vector])[0]\n",
    "    print(f\"Predicted disease: {prediction}\")\n",
    "\n",
    "\n"
   ]
  },
  {
   "cell_type": "code",
   "execution_count": 8,
   "id": "6d773b0d",
   "metadata": {},
   "outputs": [
    {
     "data": {
      "text/plain": [
       "['model.pkl']"
      ]
     },
     "execution_count": 8,
     "metadata": {},
     "output_type": "execute_result"
    }
   ],
   "source": [
    "import joblib\n",
    "joblib.dump(model, 'model.pkl')"
   ]
  }
 ],
 "metadata": {
  "kernelspec": {
   "display_name": "Python 3",
   "language": "python",
   "name": "python3"
  },
  "language_info": {
   "codemirror_mode": {
    "name": "ipython",
    "version": 3
   },
   "file_extension": ".py",
   "mimetype": "text/x-python",
   "name": "python",
   "nbconvert_exporter": "python",
   "pygments_lexer": "ipython3",
   "version": "3.10.11"
  }
 },
 "nbformat": 4,
 "nbformat_minor": 5
}
